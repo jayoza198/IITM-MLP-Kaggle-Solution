{
 "cells": [
  {
   "cell_type": "code",
   "execution_count": 1,
   "id": "e5e899aa",
   "metadata": {
    "_cell_guid": "b1076dfc-b9ad-4769-8c92-a6c4dae69d19",
    "_uuid": "8f2839f25d086af736a60e9eeb907d3b93b6e0e5",
    "execution": {
     "iopub.execute_input": "2023-03-29T12:58:10.613822Z",
     "iopub.status.busy": "2023-03-29T12:58:10.613440Z",
     "iopub.status.idle": "2023-03-29T12:58:10.625292Z",
     "shell.execute_reply": "2023-03-29T12:58:10.623883Z"
    },
    "papermill": {
     "duration": 0.027437,
     "end_time": "2023-03-29T12:58:10.628756",
     "exception": false,
     "start_time": "2023-03-29T12:58:10.601319",
     "status": "completed"
    },
    "tags": []
   },
   "outputs": [],
   "source": [
    "import numpy as np # linear algebra\n",
    "import pandas as pd # data processing, CSV file I/O (e.g. pd.read_csv)"
   ]
  },
  {
   "cell_type": "code",
   "execution_count": 2,
   "id": "80792ca8",
   "metadata": {
    "execution": {
     "iopub.execute_input": "2023-03-29T12:58:10.645738Z",
     "iopub.status.busy": "2023-03-29T12:58:10.645351Z",
     "iopub.status.idle": "2023-03-29T12:58:10.752629Z",
     "shell.execute_reply": "2023-03-29T12:58:10.751877Z"
    },
    "papermill": {
     "duration": 0.118716,
     "end_time": "2023-03-29T12:58:10.755289",
     "exception": false,
     "start_time": "2023-03-29T12:58:10.636573",
     "status": "completed"
    },
    "tags": []
   },
   "outputs": [],
   "source": [
    "test = pd.read_csv(\"/kaggle/input/e-commerce-shoppers-behaviour-understanding/test_data_v2.csv\")\n",
    "train = pd.read_csv(\"/kaggle/input/e-commerce-shoppers-behaviour-understanding/train_data_v2.csv\")\n",
    "sample = pd.read_csv(\"/kaggle/input/e-commerce-shoppers-behaviour-understanding/sample.csv\")"
   ]
  },
  {
   "cell_type": "code",
   "execution_count": 3,
   "id": "7a56c3df",
   "metadata": {
    "execution": {
     "iopub.execute_input": "2023-03-29T12:58:10.771564Z",
     "iopub.status.busy": "2023-03-29T12:58:10.771160Z",
     "iopub.status.idle": "2023-03-29T12:58:10.775609Z",
     "shell.execute_reply": "2023-03-29T12:58:10.774248Z"
    },
    "papermill": {
     "duration": 0.014872,
     "end_time": "2023-03-29T12:58:10.777741",
     "exception": false,
     "start_time": "2023-03-29T12:58:10.762869",
     "status": "completed"
    },
    "tags": []
   },
   "outputs": [],
   "source": [
    "#    from sklearn.dummy import DummyClassifier\n",
    "#    X = train_data[\"ProductDescriptionPage_Duration\"]\n",
    "#    y = train_data[\"Made_Purchase\"]\n",
    "#    dummy_clf = DummyClassifier(strategy=\"most_frequent\")\n",
    "#    dummy_clf.fit(X, y)\n",
    "#    DummyClassifier(strategy='most_frequent')\n",
    "#    dummy_clf.predict(X)"
   ]
  },
  {
   "cell_type": "code",
   "execution_count": 4,
   "id": "7bf58765",
   "metadata": {
    "execution": {
     "iopub.execute_input": "2023-03-29T12:58:10.794174Z",
     "iopub.status.busy": "2023-03-29T12:58:10.793778Z",
     "iopub.status.idle": "2023-03-29T12:58:10.798695Z",
     "shell.execute_reply": "2023-03-29T12:58:10.797058Z"
    },
    "papermill": {
     "duration": 0.015643,
     "end_time": "2023-03-29T12:58:10.800758",
     "exception": false,
     "start_time": "2023-03-29T12:58:10.785115",
     "status": "completed"
    },
    "tags": []
   },
   "outputs": [],
   "source": [
    "#sub = pd.DataFrame(dummy_clf.predict(test_data[\"ProductDescriptionPage_Duration\"]), columns=['Made_Purchase'])\n",
    "#sub.index.name = 'id'\n",
    "#sub.to_csv(\"testOutput.csv\", encoding='utf-8')\n"
   ]
  },
  {
   "cell_type": "code",
   "execution_count": 5,
   "id": "ab964444",
   "metadata": {
    "execution": {
     "iopub.execute_input": "2023-03-29T12:58:10.817436Z",
     "iopub.status.busy": "2023-03-29T12:58:10.816732Z",
     "iopub.status.idle": "2023-03-29T12:58:10.821446Z",
     "shell.execute_reply": "2023-03-29T12:58:10.820341Z"
    },
    "papermill": {
     "duration": 0.015322,
     "end_time": "2023-03-29T12:58:10.823451",
     "exception": false,
     "start_time": "2023-03-29T12:58:10.808129",
     "status": "completed"
    },
    "tags": []
   },
   "outputs": [],
   "source": [
    "#output = pd.read_csv(\"testOutput.csv\")"
   ]
  },
  {
   "cell_type": "code",
   "execution_count": 6,
   "id": "9131d31a",
   "metadata": {
    "execution": {
     "iopub.execute_input": "2023-03-29T12:58:10.839698Z",
     "iopub.status.busy": "2023-03-29T12:58:10.839357Z",
     "iopub.status.idle": "2023-03-29T12:58:10.843155Z",
     "shell.execute_reply": "2023-03-29T12:58:10.842146Z"
    },
    "papermill": {
     "duration": 0.014352,
     "end_time": "2023-03-29T12:58:10.845297",
     "exception": false,
     "start_time": "2023-03-29T12:58:10.830945",
     "status": "completed"
    },
    "tags": []
   },
   "outputs": [],
   "source": [
    "#from numpy import loadtxt\n",
    "#from xgboost import XGBClassifier\n",
    "#from sklearn.model_selection import train_test_split\n",
    "#from sklearn.metrics import accuracy_score"
   ]
  },
  {
   "cell_type": "code",
   "execution_count": 7,
   "id": "e79495cf",
   "metadata": {
    "execution": {
     "iopub.execute_input": "2023-03-29T12:58:10.867127Z",
     "iopub.status.busy": "2023-03-29T12:58:10.866491Z",
     "iopub.status.idle": "2023-03-29T12:58:10.870591Z",
     "shell.execute_reply": "2023-03-29T12:58:10.869867Z"
    },
    "papermill": {
     "duration": 0.0169,
     "end_time": "2023-03-29T12:58:10.872507",
     "exception": false,
     "start_time": "2023-03-29T12:58:10.855607",
     "status": "completed"
    },
    "tags": []
   },
   "outputs": [],
   "source": [
    "#test_data = pd.read_csv(\"/kaggle/input/e-commerce-shoppers-behaviour-understanding/test_data_v2.csv\")\n",
    "#train_data = pd.read_csv(\"/kaggle/input/e-commerce-shoppers-behaviour-understanding/train_data_v2.csv\")\n",
    "#sample_data = pd.read_csv(\"/kaggle/input/e-commerce-shoppers-behaviour-understanding/sample.csv\")"
   ]
  },
  {
   "cell_type": "code",
   "execution_count": 8,
   "id": "0c2e7e4d",
   "metadata": {
    "execution": {
     "iopub.execute_input": "2023-03-29T12:58:10.895015Z",
     "iopub.status.busy": "2023-03-29T12:58:10.894235Z",
     "iopub.status.idle": "2023-03-29T12:58:10.899073Z",
     "shell.execute_reply": "2023-03-29T12:58:10.897917Z"
    },
    "papermill": {
     "duration": 0.018193,
     "end_time": "2023-03-29T12:58:10.901203",
     "exception": false,
     "start_time": "2023-03-29T12:58:10.883010",
     "status": "completed"
    },
    "tags": []
   },
   "outputs": [],
   "source": [
    "#X = dataset[:,0:8]\n",
    "#Y = dataset[:,8]\n",
    "# split data into train and test sets\n",
    "#seed = 7\n",
    "#X = train_data[\"ProductDescriptionPage_Duration\"]\n",
    "#y = train_data[\"Made_Purchase\"]\n",
    "##test_size = 0.20\n",
    "#X_train, X_test, y_train, y_test = train_test_split(X, y, test_size=test_size, random_state=seed)\n",
    "# fit model no training data\n",
    "#model1 = XGBClassifier()\n",
    "#model1.fit(X_train, y_train)\n",
    "# make predictions for test data\n",
    "#y_pred = model1.predict(X_test)\n",
    "#predictions = [round(value) for value in y_pred]\n",
    "# evaluate predictions\n",
    "#accuracy = accuracy_score(y_test, predictions)\n",
    "#print(\"Accuracy: %.2f%%\" % (accuracy * 100.0))"
   ]
  },
  {
   "cell_type": "code",
   "execution_count": 9,
   "id": "b1ae8d8d",
   "metadata": {
    "execution": {
     "iopub.execute_input": "2023-03-29T12:58:10.921838Z",
     "iopub.status.busy": "2023-03-29T12:58:10.921393Z",
     "iopub.status.idle": "2023-03-29T12:58:10.925606Z",
     "shell.execute_reply": "2023-03-29T12:58:10.924304Z"
    },
    "papermill": {
     "duration": 0.01738,
     "end_time": "2023-03-29T12:58:10.928081",
     "exception": false,
     "start_time": "2023-03-29T12:58:10.910701",
     "status": "completed"
    },
    "tags": []
   },
   "outputs": [],
   "source": [
    "#sub1 = pd.DataFrame(model1.predict(test_data[\"ProductDescriptionPage_Duration\"]), columns=['Made_Purchase'])\n",
    "#sub1.index.name = 'id'\n",
    "#sub1.to_csv(\"testOutput1.csv\", encoding='utf-8')"
   ]
  },
  {
   "cell_type": "code",
   "execution_count": 10,
   "id": "61b18c60",
   "metadata": {
    "execution": {
     "iopub.execute_input": "2023-03-29T12:58:10.944547Z",
     "iopub.status.busy": "2023-03-29T12:58:10.943922Z",
     "iopub.status.idle": "2023-03-29T12:58:10.953676Z",
     "shell.execute_reply": "2023-03-29T12:58:10.952877Z"
    },
    "papermill": {
     "duration": 0.020241,
     "end_time": "2023-03-29T12:58:10.955708",
     "exception": false,
     "start_time": "2023-03-29T12:58:10.935467",
     "status": "completed"
    },
    "tags": []
   },
   "outputs": [
    {
     "data": {
      "text/plain": [
       "(6599, 2)"
      ]
     },
     "execution_count": 10,
     "metadata": {},
     "output_type": "execute_result"
    }
   ],
   "source": [
    "sample.shape"
   ]
  },
  {
   "cell_type": "code",
   "execution_count": 11,
   "id": "30c0ad97",
   "metadata": {
    "execution": {
     "iopub.execute_input": "2023-03-29T12:58:10.973031Z",
     "iopub.status.busy": "2023-03-29T12:58:10.972480Z",
     "iopub.status.idle": "2023-03-29T12:58:10.978471Z",
     "shell.execute_reply": "2023-03-29T12:58:10.977698Z"
    },
    "papermill": {
     "duration": 0.016624,
     "end_time": "2023-03-29T12:58:10.980384",
     "exception": false,
     "start_time": "2023-03-29T12:58:10.963760",
     "status": "completed"
    },
    "tags": []
   },
   "outputs": [
    {
     "data": {
      "text/plain": [
       "(6599, 21)"
      ]
     },
     "execution_count": 11,
     "metadata": {},
     "output_type": "execute_result"
    }
   ],
   "source": [
    "test.shape"
   ]
  },
  {
   "cell_type": "code",
   "execution_count": 12,
   "id": "97b8f452",
   "metadata": {
    "execution": {
     "iopub.execute_input": "2023-03-29T12:58:10.997411Z",
     "iopub.status.busy": "2023-03-29T12:58:10.996769Z",
     "iopub.status.idle": "2023-03-29T12:58:11.038702Z",
     "shell.execute_reply": "2023-03-29T12:58:11.037284Z"
    },
    "papermill": {
     "duration": 0.053222,
     "end_time": "2023-03-29T12:58:11.041067",
     "exception": false,
     "start_time": "2023-03-29T12:58:10.987845",
     "status": "completed"
    },
    "tags": []
   },
   "outputs": [
    {
     "data": {
      "text/html": [
       "<div>\n",
       "<style scoped>\n",
       "    .dataframe tbody tr th:only-of-type {\n",
       "        vertical-align: middle;\n",
       "    }\n",
       "\n",
       "    .dataframe tbody tr th {\n",
       "        vertical-align: top;\n",
       "    }\n",
       "\n",
       "    .dataframe thead th {\n",
       "        text-align: right;\n",
       "    }\n",
       "</style>\n",
       "<table border=\"1\" class=\"dataframe\">\n",
       "  <thead>\n",
       "    <tr style=\"text-align: right;\">\n",
       "      <th></th>\n",
       "      <th>HomePage</th>\n",
       "      <th>HomePage_Duration</th>\n",
       "      <th>LandingPage</th>\n",
       "      <th>LandingPage_Duration</th>\n",
       "      <th>ProductDescriptionPage</th>\n",
       "      <th>ProductDescriptionPage_Duration</th>\n",
       "      <th>GoogleMetric:Bounce Rates</th>\n",
       "      <th>GoogleMetric:Exit Rates</th>\n",
       "      <th>GoogleMetric:Page Values</th>\n",
       "      <th>SeasonalPurchase</th>\n",
       "      <th>...</th>\n",
       "      <th>SearchEngine</th>\n",
       "      <th>Zone</th>\n",
       "      <th>Type of Traffic</th>\n",
       "      <th>CustomerType</th>\n",
       "      <th>Gender</th>\n",
       "      <th>Cookies Setting</th>\n",
       "      <th>Education</th>\n",
       "      <th>Marital Status</th>\n",
       "      <th>WeekendPurchase</th>\n",
       "      <th>Made_Purchase</th>\n",
       "    </tr>\n",
       "  </thead>\n",
       "  <tbody>\n",
       "    <tr>\n",
       "      <th>0</th>\n",
       "      <td>0.0</td>\n",
       "      <td>0.0</td>\n",
       "      <td>0.0</td>\n",
       "      <td>0.0</td>\n",
       "      <td>1.0</td>\n",
       "      <td>0.000000</td>\n",
       "      <td>0.20</td>\n",
       "      <td>0.20</td>\n",
       "      <td>0.0</td>\n",
       "      <td>0.0</td>\n",
       "      <td>...</td>\n",
       "      <td>1.0</td>\n",
       "      <td>9.0</td>\n",
       "      <td>3.0</td>\n",
       "      <td>Returning_Visitor</td>\n",
       "      <td>Not Specified</td>\n",
       "      <td>Deny</td>\n",
       "      <td>Not Specified</td>\n",
       "      <td>Other</td>\n",
       "      <td>0.0</td>\n",
       "      <td>False</td>\n",
       "    </tr>\n",
       "    <tr>\n",
       "      <th>1</th>\n",
       "      <td>0.0</td>\n",
       "      <td>0.0</td>\n",
       "      <td>0.0</td>\n",
       "      <td>0.0</td>\n",
       "      <td>2.0</td>\n",
       "      <td>2.666667</td>\n",
       "      <td>0.05</td>\n",
       "      <td>0.14</td>\n",
       "      <td>0.0</td>\n",
       "      <td>0.0</td>\n",
       "      <td>...</td>\n",
       "      <td>2.0</td>\n",
       "      <td>2.0</td>\n",
       "      <td>4.0</td>\n",
       "      <td>Returning_Visitor</td>\n",
       "      <td>Female</td>\n",
       "      <td>Deny</td>\n",
       "      <td>Others</td>\n",
       "      <td>Married</td>\n",
       "      <td>0.0</td>\n",
       "      <td>False</td>\n",
       "    </tr>\n",
       "    <tr>\n",
       "      <th>2</th>\n",
       "      <td>0.0</td>\n",
       "      <td>0.0</td>\n",
       "      <td>0.0</td>\n",
       "      <td>0.0</td>\n",
       "      <td>10.0</td>\n",
       "      <td>627.500000</td>\n",
       "      <td>0.02</td>\n",
       "      <td>0.05</td>\n",
       "      <td>0.0</td>\n",
       "      <td>0.0</td>\n",
       "      <td>...</td>\n",
       "      <td>3.0</td>\n",
       "      <td>1.0</td>\n",
       "      <td>4.0</td>\n",
       "      <td>Returning_Visitor</td>\n",
       "      <td>Female</td>\n",
       "      <td>ALL</td>\n",
       "      <td>Others</td>\n",
       "      <td>Married</td>\n",
       "      <td>1.0</td>\n",
       "      <td>False</td>\n",
       "    </tr>\n",
       "    <tr>\n",
       "      <th>3</th>\n",
       "      <td>0.0</td>\n",
       "      <td>0.0</td>\n",
       "      <td>0.0</td>\n",
       "      <td>0.0</td>\n",
       "      <td>1.0</td>\n",
       "      <td>0.000000</td>\n",
       "      <td>0.20</td>\n",
       "      <td>0.20</td>\n",
       "      <td>0.0</td>\n",
       "      <td>0.4</td>\n",
       "      <td>...</td>\n",
       "      <td>4.0</td>\n",
       "      <td>3.0</td>\n",
       "      <td>3.0</td>\n",
       "      <td>Returning_Visitor</td>\n",
       "      <td>Male</td>\n",
       "      <td>ALL</td>\n",
       "      <td>Diploma</td>\n",
       "      <td>Single</td>\n",
       "      <td>0.0</td>\n",
       "      <td>False</td>\n",
       "    </tr>\n",
       "    <tr>\n",
       "      <th>4</th>\n",
       "      <td>1.0</td>\n",
       "      <td>0.0</td>\n",
       "      <td>0.0</td>\n",
       "      <td>0.0</td>\n",
       "      <td>0.0</td>\n",
       "      <td>0.000000</td>\n",
       "      <td>0.20</td>\n",
       "      <td>0.20</td>\n",
       "      <td>0.0</td>\n",
       "      <td>0.0</td>\n",
       "      <td>...</td>\n",
       "      <td>2.0</td>\n",
       "      <td>1.0</td>\n",
       "      <td>5.0</td>\n",
       "      <td>Returning_Visitor</td>\n",
       "      <td>Male</td>\n",
       "      <td>Deny</td>\n",
       "      <td>Diploma</td>\n",
       "      <td>Other</td>\n",
       "      <td>1.0</td>\n",
       "      <td>False</td>\n",
       "    </tr>\n",
       "  </tbody>\n",
       "</table>\n",
       "<p>5 rows × 22 columns</p>\n",
       "</div>"
      ],
      "text/plain": [
       "   HomePage  HomePage_Duration  LandingPage  LandingPage_Duration  \\\n",
       "0       0.0                0.0          0.0                   0.0   \n",
       "1       0.0                0.0          0.0                   0.0   \n",
       "2       0.0                0.0          0.0                   0.0   \n",
       "3       0.0                0.0          0.0                   0.0   \n",
       "4       1.0                0.0          0.0                   0.0   \n",
       "\n",
       "   ProductDescriptionPage  ProductDescriptionPage_Duration  \\\n",
       "0                     1.0                         0.000000   \n",
       "1                     2.0                         2.666667   \n",
       "2                    10.0                       627.500000   \n",
       "3                     1.0                         0.000000   \n",
       "4                     0.0                         0.000000   \n",
       "\n",
       "   GoogleMetric:Bounce Rates  GoogleMetric:Exit Rates  \\\n",
       "0                       0.20                     0.20   \n",
       "1                       0.05                     0.14   \n",
       "2                       0.02                     0.05   \n",
       "3                       0.20                     0.20   \n",
       "4                       0.20                     0.20   \n",
       "\n",
       "   GoogleMetric:Page Values  SeasonalPurchase  ... SearchEngine  Zone  \\\n",
       "0                       0.0               0.0  ...          1.0   9.0   \n",
       "1                       0.0               0.0  ...          2.0   2.0   \n",
       "2                       0.0               0.0  ...          3.0   1.0   \n",
       "3                       0.0               0.4  ...          4.0   3.0   \n",
       "4                       0.0               0.0  ...          2.0   1.0   \n",
       "\n",
       "   Type of Traffic       CustomerType         Gender Cookies Setting  \\\n",
       "0              3.0  Returning_Visitor  Not Specified            Deny   \n",
       "1              4.0  Returning_Visitor         Female            Deny   \n",
       "2              4.0  Returning_Visitor         Female             ALL   \n",
       "3              3.0  Returning_Visitor           Male             ALL   \n",
       "4              5.0  Returning_Visitor           Male            Deny   \n",
       "\n",
       "       Education Marital Status WeekendPurchase Made_Purchase  \n",
       "0  Not Specified          Other             0.0         False  \n",
       "1         Others        Married             0.0         False  \n",
       "2         Others        Married             1.0         False  \n",
       "3        Diploma         Single             0.0         False  \n",
       "4        Diploma          Other             1.0         False  \n",
       "\n",
       "[5 rows x 22 columns]"
      ]
     },
     "execution_count": 12,
     "metadata": {},
     "output_type": "execute_result"
    }
   ],
   "source": [
    "train.head()"
   ]
  },
  {
   "cell_type": "code",
   "execution_count": 13,
   "id": "3c946a52",
   "metadata": {
    "execution": {
     "iopub.execute_input": "2023-03-29T12:58:11.059036Z",
     "iopub.status.busy": "2023-03-29T12:58:11.058414Z",
     "iopub.status.idle": "2023-03-29T12:58:11.063915Z",
     "shell.execute_reply": "2023-03-29T12:58:11.063235Z"
    },
    "papermill": {
     "duration": 0.016617,
     "end_time": "2023-03-29T12:58:11.065721",
     "exception": false,
     "start_time": "2023-03-29T12:58:11.049104",
     "status": "completed"
    },
    "tags": []
   },
   "outputs": [
    {
     "data": {
      "text/plain": [
       "Index(['HomePage', 'HomePage_Duration', 'LandingPage', 'LandingPage_Duration',\n",
       "       'ProductDescriptionPage', 'ProductDescriptionPage_Duration',\n",
       "       'GoogleMetric:Bounce Rates', 'GoogleMetric:Exit Rates',\n",
       "       'GoogleMetric:Page Values', 'SeasonalPurchase',\n",
       "       'Month_SeasonalPurchase', 'OS', 'SearchEngine', 'Zone',\n",
       "       'Type of Traffic', 'CustomerType', 'Gender', 'Cookies Setting',\n",
       "       'Education', 'Marital Status', 'WeekendPurchase', 'Made_Purchase'],\n",
       "      dtype='object')"
      ]
     },
     "execution_count": 13,
     "metadata": {},
     "output_type": "execute_result"
    }
   ],
   "source": [
    "train.columns"
   ]
  },
  {
   "cell_type": "code",
   "execution_count": 14,
   "id": "6544e3ec",
   "metadata": {
    "execution": {
     "iopub.execute_input": "2023-03-29T12:58:11.084085Z",
     "iopub.status.busy": "2023-03-29T12:58:11.083713Z",
     "iopub.status.idle": "2023-03-29T12:58:11.108333Z",
     "shell.execute_reply": "2023-03-29T12:58:11.107476Z"
    },
    "papermill": {
     "duration": 0.036662,
     "end_time": "2023-03-29T12:58:11.110851",
     "exception": false,
     "start_time": "2023-03-29T12:58:11.074189",
     "status": "completed"
    },
    "tags": []
   },
   "outputs": [
    {
     "name": "stdout",
     "output_type": "stream",
     "text": [
      "<class 'pandas.core.frame.DataFrame'>\n",
      "RangeIndex: 14731 entries, 0 to 14730\n",
      "Data columns (total 22 columns):\n",
      " #   Column                           Non-Null Count  Dtype  \n",
      "---  ------                           --------------  -----  \n",
      " 0   HomePage                         14578 non-null  float64\n",
      " 1   HomePage_Duration                14581 non-null  float64\n",
      " 2   LandingPage                      14578 non-null  float64\n",
      " 3   LandingPage_Duration             14596 non-null  float64\n",
      " 4   ProductDescriptionPage           14608 non-null  float64\n",
      " 5   ProductDescriptionPage_Duration  14564 non-null  float64\n",
      " 6   GoogleMetric:Bounce Rates        14580 non-null  float64\n",
      " 7   GoogleMetric:Exit Rates          14602 non-null  float64\n",
      " 8   GoogleMetric:Page Values         14599 non-null  float64\n",
      " 9   SeasonalPurchase                 14581 non-null  float64\n",
      " 10  Month_SeasonalPurchase           14587 non-null  object \n",
      " 11  OS                               14597 non-null  float64\n",
      " 12  SearchEngine                     14609 non-null  float64\n",
      " 13  Zone                             14614 non-null  float64\n",
      " 14  Type of Traffic                  14588 non-null  float64\n",
      " 15  CustomerType                     14587 non-null  object \n",
      " 16  Gender                           14586 non-null  object \n",
      " 17  Cookies Setting                  14587 non-null  object \n",
      " 18  Education                        14595 non-null  object \n",
      " 19  Marital Status                   14601 non-null  object \n",
      " 20  WeekendPurchase                  14610 non-null  float64\n",
      " 21  Made_Purchase                    14731 non-null  bool   \n",
      "dtypes: bool(1), float64(15), object(6)\n",
      "memory usage: 2.4+ MB\n"
     ]
    }
   ],
   "source": [
    "train.info()"
   ]
  },
  {
   "cell_type": "code",
   "execution_count": 15,
   "id": "56314009",
   "metadata": {
    "execution": {
     "iopub.execute_input": "2023-03-29T12:58:11.129515Z",
     "iopub.status.busy": "2023-03-29T12:58:11.128821Z",
     "iopub.status.idle": "2023-03-29T12:58:11.161709Z",
     "shell.execute_reply": "2023-03-29T12:58:11.160739Z"
    },
    "papermill": {
     "duration": 0.044488,
     "end_time": "2023-03-29T12:58:11.163660",
     "exception": false,
     "start_time": "2023-03-29T12:58:11.119172",
     "status": "completed"
    },
    "tags": []
   },
   "outputs": [
    {
     "data": {
      "text/html": [
       "<div>\n",
       "<style scoped>\n",
       "    .dataframe tbody tr th:only-of-type {\n",
       "        vertical-align: middle;\n",
       "    }\n",
       "\n",
       "    .dataframe tbody tr th {\n",
       "        vertical-align: top;\n",
       "    }\n",
       "\n",
       "    .dataframe thead th {\n",
       "        text-align: right;\n",
       "    }\n",
       "</style>\n",
       "<table border=\"1\" class=\"dataframe\">\n",
       "  <thead>\n",
       "    <tr style=\"text-align: right;\">\n",
       "      <th></th>\n",
       "      <th>HomePage</th>\n",
       "      <th>HomePage_Duration</th>\n",
       "      <th>LandingPage</th>\n",
       "      <th>LandingPage_Duration</th>\n",
       "      <th>ProductDescriptionPage</th>\n",
       "      <th>ProductDescriptionPage_Duration</th>\n",
       "      <th>GoogleMetric:Bounce Rates</th>\n",
       "      <th>GoogleMetric:Exit Rates</th>\n",
       "      <th>GoogleMetric:Page Values</th>\n",
       "      <th>SeasonalPurchase</th>\n",
       "      <th>OS</th>\n",
       "      <th>SearchEngine</th>\n",
       "      <th>Zone</th>\n",
       "      <th>Type of Traffic</th>\n",
       "      <th>WeekendPurchase</th>\n",
       "      <th>Made_Purchase</th>\n",
       "    </tr>\n",
       "  </thead>\n",
       "  <tbody>\n",
       "    <tr>\n",
       "      <th>HomePage</th>\n",
       "      <td>1.000000e+00</td>\n",
       "      <td>0.596581</td>\n",
       "      <td>0.370966</td>\n",
       "      <td>0.260887</td>\n",
       "      <td>0.438757</td>\n",
       "      <td>0.372084</td>\n",
       "      <td>-0.226211</td>\n",
       "      <td>-0.318995</td>\n",
       "      <td>0.107927</td>\n",
       "      <td>-0.083924</td>\n",
       "      <td>-0.004994</td>\n",
       "      <td>-0.023313</td>\n",
       "      <td>-7.702525e-07</td>\n",
       "      <td>-0.037590</td>\n",
       "      <td>0.025796</td>\n",
       "      <td>0.052235</td>\n",
       "    </tr>\n",
       "    <tr>\n",
       "      <th>HomePage_Duration</th>\n",
       "      <td>5.965807e-01</td>\n",
       "      <td>1.000000</td>\n",
       "      <td>0.305111</td>\n",
       "      <td>0.260649</td>\n",
       "      <td>0.303806</td>\n",
       "      <td>0.384964</td>\n",
       "      <td>-0.144184</td>\n",
       "      <td>-0.205342</td>\n",
       "      <td>0.070127</td>\n",
       "      <td>-0.067671</td>\n",
       "      <td>-0.005206</td>\n",
       "      <td>-0.023967</td>\n",
       "      <td>-6.460506e-03</td>\n",
       "      <td>-0.021235</td>\n",
       "      <td>0.023926</td>\n",
       "      <td>0.042043</td>\n",
       "    </tr>\n",
       "    <tr>\n",
       "      <th>LandingPage</th>\n",
       "      <td>3.709664e-01</td>\n",
       "      <td>0.305111</td>\n",
       "      <td>1.000000</td>\n",
       "      <td>0.621425</td>\n",
       "      <td>0.378770</td>\n",
       "      <td>0.393737</td>\n",
       "      <td>-0.119836</td>\n",
       "      <td>-0.166396</td>\n",
       "      <td>0.052336</td>\n",
       "      <td>-0.045113</td>\n",
       "      <td>-0.004427</td>\n",
       "      <td>-0.033020</td>\n",
       "      <td>-3.347384e-02</td>\n",
       "      <td>-0.033209</td>\n",
       "      <td>0.039599</td>\n",
       "      <td>0.042832</td>\n",
       "    </tr>\n",
       "    <tr>\n",
       "      <th>LandingPage_Duration</th>\n",
       "      <td>2.608868e-01</td>\n",
       "      <td>0.260649</td>\n",
       "      <td>0.621425</td>\n",
       "      <td>1.000000</td>\n",
       "      <td>0.303691</td>\n",
       "      <td>0.397527</td>\n",
       "      <td>-0.075672</td>\n",
       "      <td>-0.105443</td>\n",
       "      <td>0.039144</td>\n",
       "      <td>-0.031155</td>\n",
       "      <td>-0.001194</td>\n",
       "      <td>-0.014035</td>\n",
       "      <td>-3.633766e-02</td>\n",
       "      <td>-0.020920</td>\n",
       "      <td>0.027222</td>\n",
       "      <td>0.027151</td>\n",
       "    </tr>\n",
       "    <tr>\n",
       "      <th>ProductDescriptionPage</th>\n",
       "      <td>4.387566e-01</td>\n",
       "      <td>0.303806</td>\n",
       "      <td>0.378770</td>\n",
       "      <td>0.303691</td>\n",
       "      <td>1.000000</td>\n",
       "      <td>0.847745</td>\n",
       "      <td>-0.208012</td>\n",
       "      <td>-0.296330</td>\n",
       "      <td>0.060120</td>\n",
       "      <td>-0.010994</td>\n",
       "      <td>0.009769</td>\n",
       "      <td>-0.007524</td>\n",
       "      <td>-4.270499e-02</td>\n",
       "      <td>-0.041027</td>\n",
       "      <td>0.015533</td>\n",
       "      <td>0.068328</td>\n",
       "    </tr>\n",
       "    <tr>\n",
       "      <th>ProductDescriptionPage_Duration</th>\n",
       "      <td>3.720836e-01</td>\n",
       "      <td>0.384964</td>\n",
       "      <td>0.393737</td>\n",
       "      <td>0.397527</td>\n",
       "      <td>0.847745</td>\n",
       "      <td>1.000000</td>\n",
       "      <td>-0.180863</td>\n",
       "      <td>-0.246392</td>\n",
       "      <td>0.056498</td>\n",
       "      <td>-0.029276</td>\n",
       "      <td>0.007215</td>\n",
       "      <td>-0.003413</td>\n",
       "      <td>-3.649863e-02</td>\n",
       "      <td>-0.031030</td>\n",
       "      <td>0.005213</td>\n",
       "      <td>0.066225</td>\n",
       "    </tr>\n",
       "    <tr>\n",
       "      <th>GoogleMetric:Bounce Rates</th>\n",
       "      <td>-2.262110e-01</td>\n",
       "      <td>-0.144184</td>\n",
       "      <td>-0.119836</td>\n",
       "      <td>-0.075672</td>\n",
       "      <td>-0.208012</td>\n",
       "      <td>-0.180863</td>\n",
       "      <td>1.000000</td>\n",
       "      <td>0.917069</td>\n",
       "      <td>-0.109711</td>\n",
       "      <td>0.069349</td>\n",
       "      <td>0.018894</td>\n",
       "      <td>-0.017315</td>\n",
       "      <td>-8.233936e-03</td>\n",
       "      <td>0.080653</td>\n",
       "      <td>-0.044102</td>\n",
       "      <td>-0.053724</td>\n",
       "    </tr>\n",
       "    <tr>\n",
       "      <th>GoogleMetric:Exit Rates</th>\n",
       "      <td>-3.189946e-01</td>\n",
       "      <td>-0.205342</td>\n",
       "      <td>-0.166396</td>\n",
       "      <td>-0.105443</td>\n",
       "      <td>-0.296330</td>\n",
       "      <td>-0.246392</td>\n",
       "      <td>0.917069</td>\n",
       "      <td>1.000000</td>\n",
       "      <td>-0.159273</td>\n",
       "      <td>0.097137</td>\n",
       "      <td>0.005980</td>\n",
       "      <td>-0.008442</td>\n",
       "      <td>-1.439128e-02</td>\n",
       "      <td>0.082219</td>\n",
       "      <td>-0.060329</td>\n",
       "      <td>-0.071258</td>\n",
       "    </tr>\n",
       "    <tr>\n",
       "      <th>GoogleMetric:Page Values</th>\n",
       "      <td>1.079271e-01</td>\n",
       "      <td>0.070127</td>\n",
       "      <td>0.052336</td>\n",
       "      <td>0.039144</td>\n",
       "      <td>0.060120</td>\n",
       "      <td>0.056498</td>\n",
       "      <td>-0.109711</td>\n",
       "      <td>-0.159273</td>\n",
       "      <td>1.000000</td>\n",
       "      <td>-0.056125</td>\n",
       "      <td>0.025200</td>\n",
       "      <td>0.046639</td>\n",
       "      <td>2.089536e-02</td>\n",
       "      <td>0.010458</td>\n",
       "      <td>0.004160</td>\n",
       "      <td>0.205206</td>\n",
       "    </tr>\n",
       "    <tr>\n",
       "      <th>SeasonalPurchase</th>\n",
       "      <td>-8.392428e-02</td>\n",
       "      <td>-0.067671</td>\n",
       "      <td>-0.045113</td>\n",
       "      <td>-0.031155</td>\n",
       "      <td>-0.010994</td>\n",
       "      <td>-0.029276</td>\n",
       "      <td>0.069349</td>\n",
       "      <td>0.097137</td>\n",
       "      <td>-0.056125</td>\n",
       "      <td>1.000000</td>\n",
       "      <td>0.009923</td>\n",
       "      <td>0.008353</td>\n",
       "      <td>-1.802956e-02</td>\n",
       "      <td>0.042734</td>\n",
       "      <td>-0.015069</td>\n",
       "      <td>-0.017940</td>\n",
       "    </tr>\n",
       "    <tr>\n",
       "      <th>OS</th>\n",
       "      <td>-4.994352e-03</td>\n",
       "      <td>-0.005206</td>\n",
       "      <td>-0.004427</td>\n",
       "      <td>-0.001194</td>\n",
       "      <td>0.009769</td>\n",
       "      <td>0.007215</td>\n",
       "      <td>0.018894</td>\n",
       "      <td>0.005980</td>\n",
       "      <td>0.025200</td>\n",
       "      <td>0.009923</td>\n",
       "      <td>1.000000</td>\n",
       "      <td>0.232075</td>\n",
       "      <td>7.466009e-02</td>\n",
       "      <td>0.202185</td>\n",
       "      <td>0.000380</td>\n",
       "      <td>0.001111</td>\n",
       "    </tr>\n",
       "    <tr>\n",
       "      <th>SearchEngine</th>\n",
       "      <td>-2.331256e-02</td>\n",
       "      <td>-0.023967</td>\n",
       "      <td>-0.033020</td>\n",
       "      <td>-0.014035</td>\n",
       "      <td>-0.007524</td>\n",
       "      <td>-0.003413</td>\n",
       "      <td>-0.017315</td>\n",
       "      <td>-0.008442</td>\n",
       "      <td>0.046639</td>\n",
       "      <td>0.008353</td>\n",
       "      <td>0.232075</td>\n",
       "      <td>1.000000</td>\n",
       "      <td>1.046815e-01</td>\n",
       "      <td>0.116003</td>\n",
       "      <td>-0.039578</td>\n",
       "      <td>0.009360</td>\n",
       "    </tr>\n",
       "    <tr>\n",
       "      <th>Zone</th>\n",
       "      <td>-7.702525e-07</td>\n",
       "      <td>-0.006461</td>\n",
       "      <td>-0.033474</td>\n",
       "      <td>-0.036338</td>\n",
       "      <td>-0.042705</td>\n",
       "      <td>-0.036499</td>\n",
       "      <td>-0.008234</td>\n",
       "      <td>-0.014391</td>\n",
       "      <td>0.020895</td>\n",
       "      <td>-0.018030</td>\n",
       "      <td>0.074660</td>\n",
       "      <td>0.104682</td>\n",
       "      <td>1.000000e+00</td>\n",
       "      <td>0.059796</td>\n",
       "      <td>0.002062</td>\n",
       "      <td>-0.011090</td>\n",
       "    </tr>\n",
       "    <tr>\n",
       "      <th>Type of Traffic</th>\n",
       "      <td>-3.759046e-02</td>\n",
       "      <td>-0.021235</td>\n",
       "      <td>-0.033209</td>\n",
       "      <td>-0.020920</td>\n",
       "      <td>-0.041027</td>\n",
       "      <td>-0.031030</td>\n",
       "      <td>0.080653</td>\n",
       "      <td>0.082219</td>\n",
       "      <td>0.010458</td>\n",
       "      <td>0.042734</td>\n",
       "      <td>0.202185</td>\n",
       "      <td>0.116003</td>\n",
       "      <td>5.979566e-02</td>\n",
       "      <td>1.000000</td>\n",
       "      <td>-0.001173</td>\n",
       "      <td>-0.004270</td>\n",
       "    </tr>\n",
       "    <tr>\n",
       "      <th>WeekendPurchase</th>\n",
       "      <td>2.579618e-02</td>\n",
       "      <td>0.023926</td>\n",
       "      <td>0.039599</td>\n",
       "      <td>0.027222</td>\n",
       "      <td>0.015533</td>\n",
       "      <td>0.005213</td>\n",
       "      <td>-0.044102</td>\n",
       "      <td>-0.060329</td>\n",
       "      <td>0.004160</td>\n",
       "      <td>-0.015069</td>\n",
       "      <td>0.000380</td>\n",
       "      <td>-0.039578</td>\n",
       "      <td>2.062078e-03</td>\n",
       "      <td>-0.001173</td>\n",
       "      <td>1.000000</td>\n",
       "      <td>0.010922</td>\n",
       "    </tr>\n",
       "    <tr>\n",
       "      <th>Made_Purchase</th>\n",
       "      <td>5.223521e-02</td>\n",
       "      <td>0.042043</td>\n",
       "      <td>0.042832</td>\n",
       "      <td>0.027151</td>\n",
       "      <td>0.068328</td>\n",
       "      <td>0.066225</td>\n",
       "      <td>-0.053724</td>\n",
       "      <td>-0.071258</td>\n",
       "      <td>0.205206</td>\n",
       "      <td>-0.017940</td>\n",
       "      <td>0.001111</td>\n",
       "      <td>0.009360</td>\n",
       "      <td>-1.108989e-02</td>\n",
       "      <td>-0.004270</td>\n",
       "      <td>0.010922</td>\n",
       "      <td>1.000000</td>\n",
       "    </tr>\n",
       "  </tbody>\n",
       "</table>\n",
       "</div>"
      ],
      "text/plain": [
       "                                     HomePage  HomePage_Duration  LandingPage  \\\n",
       "HomePage                         1.000000e+00           0.596581     0.370966   \n",
       "HomePage_Duration                5.965807e-01           1.000000     0.305111   \n",
       "LandingPage                      3.709664e-01           0.305111     1.000000   \n",
       "LandingPage_Duration             2.608868e-01           0.260649     0.621425   \n",
       "ProductDescriptionPage           4.387566e-01           0.303806     0.378770   \n",
       "ProductDescriptionPage_Duration  3.720836e-01           0.384964     0.393737   \n",
       "GoogleMetric:Bounce Rates       -2.262110e-01          -0.144184    -0.119836   \n",
       "GoogleMetric:Exit Rates         -3.189946e-01          -0.205342    -0.166396   \n",
       "GoogleMetric:Page Values         1.079271e-01           0.070127     0.052336   \n",
       "SeasonalPurchase                -8.392428e-02          -0.067671    -0.045113   \n",
       "OS                              -4.994352e-03          -0.005206    -0.004427   \n",
       "SearchEngine                    -2.331256e-02          -0.023967    -0.033020   \n",
       "Zone                            -7.702525e-07          -0.006461    -0.033474   \n",
       "Type of Traffic                 -3.759046e-02          -0.021235    -0.033209   \n",
       "WeekendPurchase                  2.579618e-02           0.023926     0.039599   \n",
       "Made_Purchase                    5.223521e-02           0.042043     0.042832   \n",
       "\n",
       "                                 LandingPage_Duration  ProductDescriptionPage  \\\n",
       "HomePage                                     0.260887                0.438757   \n",
       "HomePage_Duration                            0.260649                0.303806   \n",
       "LandingPage                                  0.621425                0.378770   \n",
       "LandingPage_Duration                         1.000000                0.303691   \n",
       "ProductDescriptionPage                       0.303691                1.000000   \n",
       "ProductDescriptionPage_Duration              0.397527                0.847745   \n",
       "GoogleMetric:Bounce Rates                   -0.075672               -0.208012   \n",
       "GoogleMetric:Exit Rates                     -0.105443               -0.296330   \n",
       "GoogleMetric:Page Values                     0.039144                0.060120   \n",
       "SeasonalPurchase                            -0.031155               -0.010994   \n",
       "OS                                          -0.001194                0.009769   \n",
       "SearchEngine                                -0.014035               -0.007524   \n",
       "Zone                                        -0.036338               -0.042705   \n",
       "Type of Traffic                             -0.020920               -0.041027   \n",
       "WeekendPurchase                              0.027222                0.015533   \n",
       "Made_Purchase                                0.027151                0.068328   \n",
       "\n",
       "                                 ProductDescriptionPage_Duration  \\\n",
       "HomePage                                                0.372084   \n",
       "HomePage_Duration                                       0.384964   \n",
       "LandingPage                                             0.393737   \n",
       "LandingPage_Duration                                    0.397527   \n",
       "ProductDescriptionPage                                  0.847745   \n",
       "ProductDescriptionPage_Duration                         1.000000   \n",
       "GoogleMetric:Bounce Rates                              -0.180863   \n",
       "GoogleMetric:Exit Rates                                -0.246392   \n",
       "GoogleMetric:Page Values                                0.056498   \n",
       "SeasonalPurchase                                       -0.029276   \n",
       "OS                                                      0.007215   \n",
       "SearchEngine                                           -0.003413   \n",
       "Zone                                                   -0.036499   \n",
       "Type of Traffic                                        -0.031030   \n",
       "WeekendPurchase                                         0.005213   \n",
       "Made_Purchase                                           0.066225   \n",
       "\n",
       "                                 GoogleMetric:Bounce Rates  \\\n",
       "HomePage                                         -0.226211   \n",
       "HomePage_Duration                                -0.144184   \n",
       "LandingPage                                      -0.119836   \n",
       "LandingPage_Duration                             -0.075672   \n",
       "ProductDescriptionPage                           -0.208012   \n",
       "ProductDescriptionPage_Duration                  -0.180863   \n",
       "GoogleMetric:Bounce Rates                         1.000000   \n",
       "GoogleMetric:Exit Rates                           0.917069   \n",
       "GoogleMetric:Page Values                         -0.109711   \n",
       "SeasonalPurchase                                  0.069349   \n",
       "OS                                                0.018894   \n",
       "SearchEngine                                     -0.017315   \n",
       "Zone                                             -0.008234   \n",
       "Type of Traffic                                   0.080653   \n",
       "WeekendPurchase                                  -0.044102   \n",
       "Made_Purchase                                    -0.053724   \n",
       "\n",
       "                                 GoogleMetric:Exit Rates  \\\n",
       "HomePage                                       -0.318995   \n",
       "HomePage_Duration                              -0.205342   \n",
       "LandingPage                                    -0.166396   \n",
       "LandingPage_Duration                           -0.105443   \n",
       "ProductDescriptionPage                         -0.296330   \n",
       "ProductDescriptionPage_Duration                -0.246392   \n",
       "GoogleMetric:Bounce Rates                       0.917069   \n",
       "GoogleMetric:Exit Rates                         1.000000   \n",
       "GoogleMetric:Page Values                       -0.159273   \n",
       "SeasonalPurchase                                0.097137   \n",
       "OS                                              0.005980   \n",
       "SearchEngine                                   -0.008442   \n",
       "Zone                                           -0.014391   \n",
       "Type of Traffic                                 0.082219   \n",
       "WeekendPurchase                                -0.060329   \n",
       "Made_Purchase                                  -0.071258   \n",
       "\n",
       "                                 GoogleMetric:Page Values  SeasonalPurchase  \\\n",
       "HomePage                                         0.107927         -0.083924   \n",
       "HomePage_Duration                                0.070127         -0.067671   \n",
       "LandingPage                                      0.052336         -0.045113   \n",
       "LandingPage_Duration                             0.039144         -0.031155   \n",
       "ProductDescriptionPage                           0.060120         -0.010994   \n",
       "ProductDescriptionPage_Duration                  0.056498         -0.029276   \n",
       "GoogleMetric:Bounce Rates                       -0.109711          0.069349   \n",
       "GoogleMetric:Exit Rates                         -0.159273          0.097137   \n",
       "GoogleMetric:Page Values                         1.000000         -0.056125   \n",
       "SeasonalPurchase                                -0.056125          1.000000   \n",
       "OS                                               0.025200          0.009923   \n",
       "SearchEngine                                     0.046639          0.008353   \n",
       "Zone                                             0.020895         -0.018030   \n",
       "Type of Traffic                                  0.010458          0.042734   \n",
       "WeekendPurchase                                  0.004160         -0.015069   \n",
       "Made_Purchase                                    0.205206         -0.017940   \n",
       "\n",
       "                                       OS  SearchEngine          Zone  \\\n",
       "HomePage                        -0.004994     -0.023313 -7.702525e-07   \n",
       "HomePage_Duration               -0.005206     -0.023967 -6.460506e-03   \n",
       "LandingPage                     -0.004427     -0.033020 -3.347384e-02   \n",
       "LandingPage_Duration            -0.001194     -0.014035 -3.633766e-02   \n",
       "ProductDescriptionPage           0.009769     -0.007524 -4.270499e-02   \n",
       "ProductDescriptionPage_Duration  0.007215     -0.003413 -3.649863e-02   \n",
       "GoogleMetric:Bounce Rates        0.018894     -0.017315 -8.233936e-03   \n",
       "GoogleMetric:Exit Rates          0.005980     -0.008442 -1.439128e-02   \n",
       "GoogleMetric:Page Values         0.025200      0.046639  2.089536e-02   \n",
       "SeasonalPurchase                 0.009923      0.008353 -1.802956e-02   \n",
       "OS                               1.000000      0.232075  7.466009e-02   \n",
       "SearchEngine                     0.232075      1.000000  1.046815e-01   \n",
       "Zone                             0.074660      0.104682  1.000000e+00   \n",
       "Type of Traffic                  0.202185      0.116003  5.979566e-02   \n",
       "WeekendPurchase                  0.000380     -0.039578  2.062078e-03   \n",
       "Made_Purchase                    0.001111      0.009360 -1.108989e-02   \n",
       "\n",
       "                                 Type of Traffic  WeekendPurchase  \\\n",
       "HomePage                               -0.037590         0.025796   \n",
       "HomePage_Duration                      -0.021235         0.023926   \n",
       "LandingPage                            -0.033209         0.039599   \n",
       "LandingPage_Duration                   -0.020920         0.027222   \n",
       "ProductDescriptionPage                 -0.041027         0.015533   \n",
       "ProductDescriptionPage_Duration        -0.031030         0.005213   \n",
       "GoogleMetric:Bounce Rates               0.080653        -0.044102   \n",
       "GoogleMetric:Exit Rates                 0.082219        -0.060329   \n",
       "GoogleMetric:Page Values                0.010458         0.004160   \n",
       "SeasonalPurchase                        0.042734        -0.015069   \n",
       "OS                                      0.202185         0.000380   \n",
       "SearchEngine                            0.116003        -0.039578   \n",
       "Zone                                    0.059796         0.002062   \n",
       "Type of Traffic                         1.000000        -0.001173   \n",
       "WeekendPurchase                        -0.001173         1.000000   \n",
       "Made_Purchase                          -0.004270         0.010922   \n",
       "\n",
       "                                 Made_Purchase  \n",
       "HomePage                              0.052235  \n",
       "HomePage_Duration                     0.042043  \n",
       "LandingPage                           0.042832  \n",
       "LandingPage_Duration                  0.027151  \n",
       "ProductDescriptionPage                0.068328  \n",
       "ProductDescriptionPage_Duration       0.066225  \n",
       "GoogleMetric:Bounce Rates            -0.053724  \n",
       "GoogleMetric:Exit Rates              -0.071258  \n",
       "GoogleMetric:Page Values              0.205206  \n",
       "SeasonalPurchase                     -0.017940  \n",
       "OS                                    0.001111  \n",
       "SearchEngine                          0.009360  \n",
       "Zone                                 -0.011090  \n",
       "Type of Traffic                      -0.004270  \n",
       "WeekendPurchase                       0.010922  \n",
       "Made_Purchase                         1.000000  "
      ]
     },
     "execution_count": 15,
     "metadata": {},
     "output_type": "execute_result"
    }
   ],
   "source": [
    "train.corr()"
   ]
  },
  {
   "cell_type": "code",
   "execution_count": 16,
   "id": "12a5c29c",
   "metadata": {
    "execution": {
     "iopub.execute_input": "2023-03-29T12:58:11.183467Z",
     "iopub.status.busy": "2023-03-29T12:58:11.183072Z",
     "iopub.status.idle": "2023-03-29T12:58:11.194510Z",
     "shell.execute_reply": "2023-03-29T12:58:11.193172Z"
    },
    "papermill": {
     "duration": 0.024444,
     "end_time": "2023-03-29T12:58:11.196968",
     "exception": false,
     "start_time": "2023-03-29T12:58:11.172524",
     "status": "completed"
    },
    "tags": []
   },
   "outputs": [
    {
     "data": {
      "text/plain": [
       "HomePage                           51\n",
       "HomePage_Duration                  55\n",
       "LandingPage                        56\n",
       "LandingPage_Duration               75\n",
       "ProductDescriptionPage             58\n",
       "ProductDescriptionPage_Duration    63\n",
       "GoogleMetric:Bounce Rates          66\n",
       "GoogleMetric:Exit Rates            51\n",
       "GoogleMetric:Page Values           45\n",
       "SeasonalPurchase                   45\n",
       "Month_SeasonalPurchase             58\n",
       "OS                                 62\n",
       "SearchEngine                       58\n",
       "Zone                               47\n",
       "Type of Traffic                    68\n",
       "CustomerType                       88\n",
       "Gender                             64\n",
       "Cookies Setting                    62\n",
       "Education                          69\n",
       "Marital Status                     47\n",
       "WeekendPurchase                    58\n",
       "dtype: int64"
      ]
     },
     "execution_count": 16,
     "metadata": {},
     "output_type": "execute_result"
    }
   ],
   "source": [
    "test.isnull().sum()"
   ]
  },
  {
   "cell_type": "code",
   "execution_count": 17,
   "id": "2ba3a459",
   "metadata": {
    "execution": {
     "iopub.execute_input": "2023-03-29T12:58:11.216539Z",
     "iopub.status.busy": "2023-03-29T12:58:11.216124Z",
     "iopub.status.idle": "2023-03-29T12:58:11.223069Z",
     "shell.execute_reply": "2023-03-29T12:58:11.221778Z"
    },
    "papermill": {
     "duration": 0.019496,
     "end_time": "2023-03-29T12:58:11.225505",
     "exception": false,
     "start_time": "2023-03-29T12:58:11.206009",
     "status": "completed"
    },
    "tags": []
   },
   "outputs": [
    {
     "data": {
      "text/plain": [
       "(6599, 21)"
      ]
     },
     "execution_count": 17,
     "metadata": {},
     "output_type": "execute_result"
    }
   ],
   "source": [
    "test.shape"
   ]
  },
  {
   "cell_type": "code",
   "execution_count": 18,
   "id": "42cc5ef6",
   "metadata": {
    "execution": {
     "iopub.execute_input": "2023-03-29T12:58:11.245945Z",
     "iopub.status.busy": "2023-03-29T12:58:11.245512Z",
     "iopub.status.idle": "2023-03-29T12:58:11.253333Z",
     "shell.execute_reply": "2023-03-29T12:58:11.252198Z"
    },
    "papermill": {
     "duration": 0.021076,
     "end_time": "2023-03-29T12:58:11.255913",
     "exception": false,
     "start_time": "2023-03-29T12:58:11.234837",
     "status": "completed"
    },
    "tags": []
   },
   "outputs": [
    {
     "data": {
      "text/plain": [
       "Index(['HomePage', 'HomePage_Duration', 'LandingPage', 'LandingPage_Duration',\n",
       "       'ProductDescriptionPage', 'ProductDescriptionPage_Duration',\n",
       "       'GoogleMetric:Bounce Rates', 'GoogleMetric:Exit Rates',\n",
       "       'GoogleMetric:Page Values', 'SeasonalPurchase',\n",
       "       'Month_SeasonalPurchase', 'OS', 'SearchEngine', 'Zone',\n",
       "       'Type of Traffic', 'CustomerType', 'Gender', 'Cookies Setting',\n",
       "       'Education', 'Marital Status', 'WeekendPurchase'],\n",
       "      dtype='object')"
      ]
     },
     "execution_count": 18,
     "metadata": {},
     "output_type": "execute_result"
    }
   ],
   "source": [
    "test.columns"
   ]
  },
  {
   "cell_type": "code",
   "execution_count": 19,
   "id": "737b7f19",
   "metadata": {
    "execution": {
     "iopub.execute_input": "2023-03-29T12:58:11.276406Z",
     "iopub.status.busy": "2023-03-29T12:58:11.276031Z",
     "iopub.status.idle": "2023-03-29T12:58:11.283055Z",
     "shell.execute_reply": "2023-03-29T12:58:11.280930Z"
    },
    "papermill": {
     "duration": 0.020602,
     "end_time": "2023-03-29T12:58:11.285919",
     "exception": false,
     "start_time": "2023-03-29T12:58:11.265317",
     "status": "completed"
    },
    "tags": []
   },
   "outputs": [],
   "source": [
    "num=['HomePage', 'HomePage_Duration', 'LandingPage', 'LandingPage_Duration',\n",
    "       'ProductDescriptionPage', 'ProductDescriptionPage_Duration',\n",
    "       'GoogleMetric:Bounce Rates', 'GoogleMetric:Exit Rates',\n",
    "       'GoogleMetric:Page Values', 'SeasonalPurchase',\n",
    "        'OS', 'SearchEngine', 'Zone',\n",
    "       'Type of Traffic', 'WeekendPurchase']"
   ]
  },
  {
   "cell_type": "code",
   "execution_count": 20,
   "id": "b23f6e13",
   "metadata": {
    "execution": {
     "iopub.execute_input": "2023-03-29T12:58:11.306728Z",
     "iopub.status.busy": "2023-03-29T12:58:11.306364Z",
     "iopub.status.idle": "2023-03-29T12:58:12.444772Z",
     "shell.execute_reply": "2023-03-29T12:58:12.443173Z"
    },
    "papermill": {
     "duration": 1.151723,
     "end_time": "2023-03-29T12:58:12.447455",
     "exception": false,
     "start_time": "2023-03-29T12:58:11.295732",
     "status": "completed"
    },
    "tags": []
   },
   "outputs": [],
   "source": [
    "from sklearn.preprocessing import LabelEncoder\n",
    "l=LabelEncoder()\n",
    "category = ['Month_SeasonalPurchase','Marital Status','Education','Cookies Setting', 'Gender', 'CustomerType']\n",
    "train[category] = train[category].apply(l.fit_transform)\n",
    "test[category]=train[category].apply(l.fit_transform)"
   ]
  },
  {
   "cell_type": "code",
   "execution_count": 21,
   "id": "08465e83",
   "metadata": {
    "execution": {
     "iopub.execute_input": "2023-03-29T12:58:12.467749Z",
     "iopub.status.busy": "2023-03-29T12:58:12.467332Z",
     "iopub.status.idle": "2023-03-29T12:58:12.765106Z",
     "shell.execute_reply": "2023-03-29T12:58:12.763343Z"
    },
    "papermill": {
     "duration": 0.311004,
     "end_time": "2023-03-29T12:58:12.767756",
     "exception": false,
     "start_time": "2023-03-29T12:58:12.456752",
     "status": "completed"
    },
    "tags": []
   },
   "outputs": [],
   "source": [
    "from sklearn.impute import SimpleImputer\n",
    "\n",
    "impute = SimpleImputer(strategy='mean', missing_values=np.nan)\n",
    "impute = impute.fit(test[num])\n",
    "test[num] = impute.transform(test[num])\n"
   ]
  },
  {
   "cell_type": "code",
   "execution_count": 22,
   "id": "74ff4367",
   "metadata": {
    "execution": {
     "iopub.execute_input": "2023-03-29T12:58:12.788038Z",
     "iopub.status.busy": "2023-03-29T12:58:12.787678Z",
     "iopub.status.idle": "2023-03-29T12:58:12.796848Z",
     "shell.execute_reply": "2023-03-29T12:58:12.795854Z"
    },
    "papermill": {
     "duration": 0.021872,
     "end_time": "2023-03-29T12:58:12.798979",
     "exception": false,
     "start_time": "2023-03-29T12:58:12.777107",
     "status": "completed"
    },
    "tags": []
   },
   "outputs": [
    {
     "data": {
      "text/plain": [
       "HomePage                           0\n",
       "HomePage_Duration                  0\n",
       "LandingPage                        0\n",
       "LandingPage_Duration               0\n",
       "ProductDescriptionPage             0\n",
       "ProductDescriptionPage_Duration    0\n",
       "GoogleMetric:Bounce Rates          0\n",
       "GoogleMetric:Exit Rates            0\n",
       "GoogleMetric:Page Values           0\n",
       "SeasonalPurchase                   0\n",
       "Month_SeasonalPurchase             0\n",
       "OS                                 0\n",
       "SearchEngine                       0\n",
       "Zone                               0\n",
       "Type of Traffic                    0\n",
       "CustomerType                       0\n",
       "Gender                             0\n",
       "Cookies Setting                    0\n",
       "Education                          0\n",
       "Marital Status                     0\n",
       "WeekendPurchase                    0\n",
       "dtype: int64"
      ]
     },
     "execution_count": 22,
     "metadata": {},
     "output_type": "execute_result"
    }
   ],
   "source": [
    "test.isnull().sum()"
   ]
  },
  {
   "cell_type": "code",
   "execution_count": 23,
   "id": "4e16a9d4",
   "metadata": {
    "execution": {
     "iopub.execute_input": "2023-03-29T12:58:12.819345Z",
     "iopub.status.busy": "2023-03-29T12:58:12.818980Z",
     "iopub.status.idle": "2023-03-29T12:58:13.765748Z",
     "shell.execute_reply": "2023-03-29T12:58:13.764915Z"
    },
    "papermill": {
     "duration": 0.960188,
     "end_time": "2023-03-29T12:58:13.768641",
     "exception": false,
     "start_time": "2023-03-29T12:58:12.808453",
     "status": "completed"
    },
    "tags": []
   },
   "outputs": [
    {
     "data": {
      "image/png": "[encoded data removed]",
      "text/plain": [
       "<Figure size 640x480 with 2 Axes>"
      ]
     },
     "metadata": {},
     "output_type": "display_data"
    }
   ],
   "source": [
    "import seaborn as sns\n",
    "ax = sns.heatmap(train.corr(), annot=False)"
   ]
  },
  {
   "cell_type": "code",
   "execution_count": 24,
   "id": "68500add",
   "metadata": {
    "execution": {
     "iopub.execute_input": "2023-03-29T12:58:13.795681Z",
     "iopub.status.busy": "2023-03-29T12:58:13.795285Z",
     "iopub.status.idle": "2023-03-29T12:58:13.804815Z",
     "shell.execute_reply": "2023-03-29T12:58:13.804063Z"
    },
    "papermill": {
     "duration": 0.024014,
     "end_time": "2023-03-29T12:58:13.806704",
     "exception": false,
     "start_time": "2023-03-29T12:58:13.782690",
     "status": "completed"
    },
    "tags": []
   },
   "outputs": [
    {
     "data": {
      "text/plain": [
       "HomePage                           153\n",
       "HomePage_Duration                  150\n",
       "LandingPage                        153\n",
       "LandingPage_Duration               135\n",
       "ProductDescriptionPage             123\n",
       "ProductDescriptionPage_Duration    167\n",
       "GoogleMetric:Bounce Rates          151\n",
       "GoogleMetric:Exit Rates            129\n",
       "GoogleMetric:Page Values           132\n",
       "SeasonalPurchase                   150\n",
       "Month_SeasonalPurchase               0\n",
       "OS                                 134\n",
       "SearchEngine                       122\n",
       "Zone                               117\n",
       "Type of Traffic                    143\n",
       "CustomerType                         0\n",
       "Gender                               0\n",
       "Cookies Setting                      0\n",
       "Education                            0\n",
       "Marital Status                       0\n",
       "WeekendPurchase                    121\n",
       "Made_Purchase                        0\n",
       "dtype: int64"
      ]
     },
     "execution_count": 24,
     "metadata": {},
     "output_type": "execute_result"
    }
   ],
   "source": [
    "train.isnull().sum()"
   ]
  },
  {
   "cell_type": "code",
   "execution_count": 25,
   "id": "1f80b48b",
   "metadata": {
    "execution": {
     "iopub.execute_input": "2023-03-29T12:58:13.830536Z",
     "iopub.status.busy": "2023-03-29T12:58:13.829500Z",
     "iopub.status.idle": "2023-03-29T12:58:13.837596Z",
     "shell.execute_reply": "2023-03-29T12:58:13.836863Z"
    },
    "papermill": {
     "duration": 0.022303,
     "end_time": "2023-03-29T12:58:13.839738",
     "exception": false,
     "start_time": "2023-03-29T12:58:13.817435",
     "status": "completed"
    },
    "tags": []
   },
   "outputs": [],
   "source": [
    "train.dropna(inplace=True)"
   ]
  },
  {
   "cell_type": "code",
   "execution_count": 26,
   "id": "8273602e",
   "metadata": {
    "execution": {
     "iopub.execute_input": "2023-03-29T12:58:13.863414Z",
     "iopub.status.busy": "2023-03-29T12:58:13.862677Z",
     "iopub.status.idle": "2023-03-29T12:58:13.871345Z",
     "shell.execute_reply": "2023-03-29T12:58:13.870561Z"
    },
    "papermill": {
     "duration": 0.022754,
     "end_time": "2023-03-29T12:58:13.873299",
     "exception": false,
     "start_time": "2023-03-29T12:58:13.850545",
     "status": "completed"
    },
    "tags": []
   },
   "outputs": [
    {
     "data": {
      "text/plain": [
       "HomePage                           0\n",
       "HomePage_Duration                  0\n",
       "LandingPage                        0\n",
       "LandingPage_Duration               0\n",
       "ProductDescriptionPage             0\n",
       "ProductDescriptionPage_Duration    0\n",
       "GoogleMetric:Bounce Rates          0\n",
       "GoogleMetric:Exit Rates            0\n",
       "GoogleMetric:Page Values           0\n",
       "SeasonalPurchase                   0\n",
       "Month_SeasonalPurchase             0\n",
       "OS                                 0\n",
       "SearchEngine                       0\n",
       "Zone                               0\n",
       "Type of Traffic                    0\n",
       "CustomerType                       0\n",
       "Gender                             0\n",
       "Cookies Setting                    0\n",
       "Education                          0\n",
       "Marital Status                     0\n",
       "WeekendPurchase                    0\n",
       "Made_Purchase                      0\n",
       "dtype: int64"
      ]
     },
     "execution_count": 26,
     "metadata": {},
     "output_type": "execute_result"
    }
   ],
   "source": [
    "train.isnull().sum()"
   ]
  },
  {
   "cell_type": "code",
   "execution_count": 27,
   "id": "48e57f95",
   "metadata": {
    "execution": {
     "iopub.execute_input": "2023-03-29T12:58:13.896923Z",
     "iopub.status.busy": "2023-03-29T12:58:13.896508Z",
     "iopub.status.idle": "2023-03-29T12:58:13.902604Z",
     "shell.execute_reply": "2023-03-29T12:58:13.901632Z"
    },
    "papermill": {
     "duration": 0.02038,
     "end_time": "2023-03-29T12:58:13.904537",
     "exception": false,
     "start_time": "2023-03-29T12:58:13.884157",
     "status": "completed"
    },
    "tags": []
   },
   "outputs": [
    {
     "data": {
      "text/plain": [
       "(12651, 22)"
      ]
     },
     "execution_count": 27,
     "metadata": {},
     "output_type": "execute_result"
    }
   ],
   "source": [
    "train.shape"
   ]
  },
  {
   "cell_type": "code",
   "execution_count": 28,
   "id": "9910fc62",
   "metadata": {
    "execution": {
     "iopub.execute_input": "2023-03-29T12:58:13.928952Z",
     "iopub.status.busy": "2023-03-29T12:58:13.928199Z",
     "iopub.status.idle": "2023-03-29T12:58:13.935097Z",
     "shell.execute_reply": "2023-03-29T12:58:13.934068Z"
    },
    "papermill": {
     "duration": 0.021105,
     "end_time": "2023-03-29T12:58:13.937011",
     "exception": false,
     "start_time": "2023-03-29T12:58:13.915906",
     "status": "completed"
    },
    "tags": []
   },
   "outputs": [
    {
     "data": {
      "text/plain": [
       "(6599, 21)"
      ]
     },
     "execution_count": 28,
     "metadata": {},
     "output_type": "execute_result"
    }
   ],
   "source": [
    "test.shape"
   ]
  },
  {
   "cell_type": "code",
   "execution_count": 29,
   "id": "3d18876d",
   "metadata": {
    "execution": {
     "iopub.execute_input": "2023-03-29T12:58:13.961305Z",
     "iopub.status.busy": "2023-03-29T12:58:13.960987Z",
     "iopub.status.idle": "2023-03-29T12:58:13.968263Z",
     "shell.execute_reply": "2023-03-29T12:58:13.967282Z"
    },
    "papermill": {
     "duration": 0.02121,
     "end_time": "2023-03-29T12:58:13.970186",
     "exception": false,
     "start_time": "2023-03-29T12:58:13.948976",
     "status": "completed"
    },
    "tags": []
   },
   "outputs": [
    {
     "data": {
      "text/plain": [
       "Index(['HomePage', 'HomePage_Duration', 'LandingPage', 'LandingPage_Duration',\n",
       "       'ProductDescriptionPage', 'ProductDescriptionPage_Duration',\n",
       "       'GoogleMetric:Bounce Rates', 'GoogleMetric:Exit Rates',\n",
       "       'GoogleMetric:Page Values', 'SeasonalPurchase',\n",
       "       'Month_SeasonalPurchase', 'OS', 'SearchEngine', 'Zone',\n",
       "       'Type of Traffic', 'CustomerType', 'Gender', 'Cookies Setting',\n",
       "       'Education', 'Marital Status', 'WeekendPurchase', 'Made_Purchase'],\n",
       "      dtype='object')"
      ]
     },
     "execution_count": 29,
     "metadata": {},
     "output_type": "execute_result"
    }
   ],
   "source": [
    "train.columns"
   ]
  },
  {
   "cell_type": "code",
   "execution_count": 30,
   "id": "63040ba5",
   "metadata": {
    "execution": {
     "iopub.execute_input": "2023-03-29T12:58:13.996696Z",
     "iopub.status.busy": "2023-03-29T12:58:13.995637Z",
     "iopub.status.idle": "2023-03-29T12:58:14.009374Z",
     "shell.execute_reply": "2023-03-29T12:58:14.008060Z"
    },
    "papermill": {
     "duration": 0.029285,
     "end_time": "2023-03-29T12:58:14.011909",
     "exception": false,
     "start_time": "2023-03-29T12:58:13.982624",
     "status": "completed"
    },
    "tags": []
   },
   "outputs": [],
   "source": [
    "from sklearn.model_selection import train_test_split\n",
    "\n",
    "seed = 42\n",
    "f=['HomePage', 'HomePage_Duration', 'LandingPage', 'LandingPage_Duration',\n",
    "       'ProductDescriptionPage', 'ProductDescriptionPage_Duration',\n",
    "       'GoogleMetric:Page Values', 'SeasonalPurchase',\n",
    "       'Month_SeasonalPurchase',\n",
    "       'CustomerType', 'Gender', 'Cookies Setting',\n",
    "       'Education', 'Marital Status', 'WeekendPurchase']\n",
    "X = train[f]\n",
    "y = train[\"Made_Purchase\"]\n",
    "test_size = 0.3\n",
    "X_train, X_test, y_train, y_test = train_test_split(X, y, test_size=test_size, random_state=seed)"
   ]
  },
  {
   "cell_type": "code",
   "execution_count": 31,
   "id": "9a15a3c0",
   "metadata": {
    "execution": {
     "iopub.execute_input": "2023-03-29T12:58:14.036604Z",
     "iopub.status.busy": "2023-03-29T12:58:14.036044Z",
     "iopub.status.idle": "2023-03-29T12:58:14.060587Z",
     "shell.execute_reply": "2023-03-29T12:58:14.059601Z"
    },
    "papermill": {
     "duration": 0.039471,
     "end_time": "2023-03-29T12:58:14.062790",
     "exception": false,
     "start_time": "2023-03-29T12:58:14.023319",
     "status": "completed"
    },
    "tags": []
   },
   "outputs": [
    {
     "data": {
      "text/html": [
       "<div>\n",
       "<style scoped>\n",
       "    .dataframe tbody tr th:only-of-type {\n",
       "        vertical-align: middle;\n",
       "    }\n",
       "\n",
       "    .dataframe tbody tr th {\n",
       "        vertical-align: top;\n",
       "    }\n",
       "\n",
       "    .dataframe thead th {\n",
       "        text-align: right;\n",
       "    }\n",
       "</style>\n",
       "<table border=\"1\" class=\"dataframe\">\n",
       "  <thead>\n",
       "    <tr style=\"text-align: right;\">\n",
       "      <th></th>\n",
       "      <th>HomePage</th>\n",
       "      <th>HomePage_Duration</th>\n",
       "      <th>LandingPage</th>\n",
       "      <th>LandingPage_Duration</th>\n",
       "      <th>ProductDescriptionPage</th>\n",
       "      <th>ProductDescriptionPage_Duration</th>\n",
       "      <th>GoogleMetric:Bounce Rates</th>\n",
       "      <th>GoogleMetric:Exit Rates</th>\n",
       "      <th>GoogleMetric:Page Values</th>\n",
       "      <th>SeasonalPurchase</th>\n",
       "      <th>...</th>\n",
       "      <th>SearchEngine</th>\n",
       "      <th>Zone</th>\n",
       "      <th>Type of Traffic</th>\n",
       "      <th>CustomerType</th>\n",
       "      <th>Gender</th>\n",
       "      <th>Cookies Setting</th>\n",
       "      <th>Education</th>\n",
       "      <th>Marital Status</th>\n",
       "      <th>WeekendPurchase</th>\n",
       "      <th>Made_Purchase</th>\n",
       "    </tr>\n",
       "  </thead>\n",
       "  <tbody>\n",
       "    <tr>\n",
       "      <th>0</th>\n",
       "      <td>0.0</td>\n",
       "      <td>0.0</td>\n",
       "      <td>0.0</td>\n",
       "      <td>0.0</td>\n",
       "      <td>1.0</td>\n",
       "      <td>0.000000</td>\n",
       "      <td>0.20</td>\n",
       "      <td>0.20</td>\n",
       "      <td>0.0</td>\n",
       "      <td>0.0</td>\n",
       "      <td>...</td>\n",
       "      <td>1.0</td>\n",
       "      <td>9.0</td>\n",
       "      <td>3.0</td>\n",
       "      <td>2</td>\n",
       "      <td>2</td>\n",
       "      <td>1</td>\n",
       "      <td>2</td>\n",
       "      <td>1</td>\n",
       "      <td>0.0</td>\n",
       "      <td>False</td>\n",
       "    </tr>\n",
       "    <tr>\n",
       "      <th>1</th>\n",
       "      <td>0.0</td>\n",
       "      <td>0.0</td>\n",
       "      <td>0.0</td>\n",
       "      <td>0.0</td>\n",
       "      <td>2.0</td>\n",
       "      <td>2.666667</td>\n",
       "      <td>0.05</td>\n",
       "      <td>0.14</td>\n",
       "      <td>0.0</td>\n",
       "      <td>0.0</td>\n",
       "      <td>...</td>\n",
       "      <td>2.0</td>\n",
       "      <td>2.0</td>\n",
       "      <td>4.0</td>\n",
       "      <td>2</td>\n",
       "      <td>0</td>\n",
       "      <td>1</td>\n",
       "      <td>3</td>\n",
       "      <td>0</td>\n",
       "      <td>0.0</td>\n",
       "      <td>False</td>\n",
       "    </tr>\n",
       "    <tr>\n",
       "      <th>2</th>\n",
       "      <td>0.0</td>\n",
       "      <td>0.0</td>\n",
       "      <td>0.0</td>\n",
       "      <td>0.0</td>\n",
       "      <td>10.0</td>\n",
       "      <td>627.500000</td>\n",
       "      <td>0.02</td>\n",
       "      <td>0.05</td>\n",
       "      <td>0.0</td>\n",
       "      <td>0.0</td>\n",
       "      <td>...</td>\n",
       "      <td>3.0</td>\n",
       "      <td>1.0</td>\n",
       "      <td>4.0</td>\n",
       "      <td>2</td>\n",
       "      <td>0</td>\n",
       "      <td>0</td>\n",
       "      <td>3</td>\n",
       "      <td>0</td>\n",
       "      <td>1.0</td>\n",
       "      <td>False</td>\n",
       "    </tr>\n",
       "    <tr>\n",
       "      <th>3</th>\n",
       "      <td>0.0</td>\n",
       "      <td>0.0</td>\n",
       "      <td>0.0</td>\n",
       "      <td>0.0</td>\n",
       "      <td>1.0</td>\n",
       "      <td>0.000000</td>\n",
       "      <td>0.20</td>\n",
       "      <td>0.20</td>\n",
       "      <td>0.0</td>\n",
       "      <td>0.4</td>\n",
       "      <td>...</td>\n",
       "      <td>4.0</td>\n",
       "      <td>3.0</td>\n",
       "      <td>3.0</td>\n",
       "      <td>2</td>\n",
       "      <td>1</td>\n",
       "      <td>0</td>\n",
       "      <td>0</td>\n",
       "      <td>2</td>\n",
       "      <td>0.0</td>\n",
       "      <td>False</td>\n",
       "    </tr>\n",
       "    <tr>\n",
       "      <th>4</th>\n",
       "      <td>1.0</td>\n",
       "      <td>0.0</td>\n",
       "      <td>0.0</td>\n",
       "      <td>0.0</td>\n",
       "      <td>0.0</td>\n",
       "      <td>0.000000</td>\n",
       "      <td>0.20</td>\n",
       "      <td>0.20</td>\n",
       "      <td>0.0</td>\n",
       "      <td>0.0</td>\n",
       "      <td>...</td>\n",
       "      <td>2.0</td>\n",
       "      <td>1.0</td>\n",
       "      <td>5.0</td>\n",
       "      <td>2</td>\n",
       "      <td>1</td>\n",
       "      <td>1</td>\n",
       "      <td>0</td>\n",
       "      <td>1</td>\n",
       "      <td>1.0</td>\n",
       "      <td>False</td>\n",
       "    </tr>\n",
       "  </tbody>\n",
       "</table>\n",
       "<p>5 rows × 22 columns</p>\n",
       "</div>"
      ],
      "text/plain": [
       "   HomePage  HomePage_Duration  LandingPage  LandingPage_Duration  \\\n",
       "0       0.0                0.0          0.0                   0.0   \n",
       "1       0.0                0.0          0.0                   0.0   \n",
       "2       0.0                0.0          0.0                   0.0   \n",
       "3       0.0                0.0          0.0                   0.0   \n",
       "4       1.0                0.0          0.0                   0.0   \n",
       "\n",
       "   ProductDescriptionPage  ProductDescriptionPage_Duration  \\\n",
       "0                     1.0                         0.000000   \n",
       "1                     2.0                         2.666667   \n",
       "2                    10.0                       627.500000   \n",
       "3                     1.0                         0.000000   \n",
       "4                     0.0                         0.000000   \n",
       "\n",
       "   GoogleMetric:Bounce Rates  GoogleMetric:Exit Rates  \\\n",
       "0                       0.20                     0.20   \n",
       "1                       0.05                     0.14   \n",
       "2                       0.02                     0.05   \n",
       "3                       0.20                     0.20   \n",
       "4                       0.20                     0.20   \n",
       "\n",
       "   GoogleMetric:Page Values  SeasonalPurchase  ...  SearchEngine  Zone  \\\n",
       "0                       0.0               0.0  ...           1.0   9.0   \n",
       "1                       0.0               0.0  ...           2.0   2.0   \n",
       "2                       0.0               0.0  ...           3.0   1.0   \n",
       "3                       0.0               0.4  ...           4.0   3.0   \n",
       "4                       0.0               0.0  ...           2.0   1.0   \n",
       "\n",
       "   Type of Traffic  CustomerType  Gender  Cookies Setting  Education  \\\n",
       "0              3.0             2       2                1          2   \n",
       "1              4.0             2       0                1          3   \n",
       "2              4.0             2       0                0          3   \n",
       "3              3.0             2       1                0          0   \n",
       "4              5.0             2       1                1          0   \n",
       "\n",
       "   Marital Status  WeekendPurchase  Made_Purchase  \n",
       "0               1              0.0          False  \n",
       "1               0              0.0          False  \n",
       "2               0              1.0          False  \n",
       "3               2              0.0          False  \n",
       "4               1              1.0          False  \n",
       "\n",
       "[5 rows x 22 columns]"
      ]
     },
     "execution_count": 31,
     "metadata": {},
     "output_type": "execute_result"
    }
   ],
   "source": [
    "train.head()"
   ]
  },
  {
   "cell_type": "code",
   "execution_count": 32,
   "id": "ef1265c2",
   "metadata": {
    "execution": {
     "iopub.execute_input": "2023-03-29T12:58:14.088450Z",
     "iopub.status.busy": "2023-03-29T12:58:14.087870Z",
     "iopub.status.idle": "2023-03-29T12:58:34.939126Z",
     "shell.execute_reply": "2023-03-29T12:58:34.938059Z"
    },
    "papermill": {
     "duration": 20.866974,
     "end_time": "2023-03-29T12:58:34.941656",
     "exception": false,
     "start_time": "2023-03-29T12:58:14.074682",
     "status": "completed"
    },
    "tags": []
   },
   "outputs": [
    {
     "name": "stdout",
     "output_type": "stream",
     "text": [
      "Voting Classifier accuracy: 0.6599051633298209\n"
     ]
    }
   ],
   "source": [
    "from sklearn.ensemble import VotingClassifier\n",
    "from sklearn.neighbors import KNeighborsClassifier\n",
    "from sklearn.ensemble import RandomForestClassifier\n",
    "from sklearn.ensemble import AdaBoostClassifier\n",
    "from xgboost import XGBClassifier\n",
    "from sklearn.svm import SVC\n",
    "knn = KNeighborsClassifier(n_neighbors=22)\n",
    "rfc = RandomForestClassifier(n_estimators=500, random_state=42)\n",
    "xgb = XGBClassifier(n_estimators=1000, learning_rate=0.03, max_depth=3)\n",
    "ad=AdaBoostClassifier(n_estimators= 1000, learning_rate= 0.03, algorithm= 'SAMME.R')\n",
    "\n",
    "\n",
    "\n",
    "voting_classifier = VotingClassifier(\n",
    "    estimators=[('knn', knn), ('rfc', rfc), ('xgb', xgb), ('ad', ad)],\n",
    "    voting='hard'\n",
    ")\n",
    "\n",
    "v=voting_classifier.fit(X_train, y_train)\n",
    "accuracy = voting_classifier.score(X_test, y_test)\n",
    "y_pred = v.predict(X_test)\n",
    "print(f\"Voting Classifier accuracy: {accuracy}\")\n"
   ]
  },
  {
   "cell_type": "code",
   "execution_count": 33,
   "id": "fc55da07",
   "metadata": {
    "execution": {
     "iopub.execute_input": "2023-03-29T12:58:34.967227Z",
     "iopub.status.busy": "2023-03-29T12:58:34.966560Z",
     "iopub.status.idle": "2023-03-29T12:58:36.626817Z",
     "shell.execute_reply": "2023-03-29T12:58:36.626056Z"
    },
    "papermill": {
     "duration": 1.675651,
     "end_time": "2023-03-29T12:58:36.629129",
     "exception": false,
     "start_time": "2023-03-29T12:58:34.953478",
     "status": "completed"
    },
    "tags": []
   },
   "outputs": [],
   "source": [
    "\n",
    "f=['HomePage', 'HomePage_Duration', 'LandingPage', 'LandingPage_Duration',\n",
    "       'ProductDescriptionPage', 'ProductDescriptionPage_Duration',\n",
    "       'GoogleMetric:Page Values', 'SeasonalPurchase',\n",
    "       'Month_SeasonalPurchase',\n",
    "       'CustomerType', 'Gender', 'Cookies Setting',\n",
    "       'Education', 'Marital Status', 'WeekendPurchase']\n",
    "test1 = test[f]\n",
    "y_pred3=v.predict(test1)"
   ]
  },
  {
   "cell_type": "code",
   "execution_count": 34,
   "id": "3050d4ac",
   "metadata": {
    "execution": {
     "iopub.execute_input": "2023-03-29T12:58:36.653590Z",
     "iopub.status.busy": "2023-03-29T12:58:36.653050Z",
     "iopub.status.idle": "2023-03-29T12:58:36.678019Z",
     "shell.execute_reply": "2023-03-29T12:58:36.676469Z"
    },
    "papermill": {
     "duration": 0.040276,
     "end_time": "2023-03-29T12:58:36.680915",
     "exception": false,
     "start_time": "2023-03-29T12:58:36.640639",
     "status": "completed"
    },
    "tags": []
   },
   "outputs": [],
   "source": [
    "submission3=pd.DataFrame(columns=['id', 'Made_Purchase'])\n",
    "submission3['id']=[i for i in range(len(y_pred3))]\n",
    "submission3[\"Made_Purchase\"]=[i for i in y_pred3]\n",
    "submission3.to_csv('submission.csv',index=False)"
   ]
  },
  {
   "cell_type": "code",
   "execution_count": null,
   "id": "302f62b0",
   "metadata": {
    "papermill": {
     "duration": 0.011296,
     "end_time": "2023-03-29T12:58:36.704000",
     "exception": false,
     "start_time": "2023-03-29T12:58:36.692704",
     "status": "completed"
    },
    "tags": []
   },
   "outputs": [],
   "source": []
  }
 ],
 "metadata": {
  "kernelspec": {
   "display_name": "Python 3",
   "language": "python",
   "name": "python3"
  },
  "language_info": {
   "codemirror_mode": {
    "name": "ipython",
    "version": 3
   },
   "file_extension": ".py",
   "mimetype": "text/x-python",
   "name": "python",
   "nbconvert_exporter": "python",
   "pygments_lexer": "ipython3",
   "version": "3.7.12"
  },
  "papermill": {
   "default_parameters": {},
   "duration": 36.065435,
   "end_time": "2023-03-29T12:58:37.437413",
   "environment_variables": {},
   "exception": null,
   "input_path": "__notebook__.ipynb",
   "output_path": "__notebook__.ipynb",
   "parameters": {},
   "start_time": "2023-03-29T12:58:01.371978",
   "version": "2.4.0"
  }
 },
 "nbformat": 4,
 "nbformat_minor": 5
}
